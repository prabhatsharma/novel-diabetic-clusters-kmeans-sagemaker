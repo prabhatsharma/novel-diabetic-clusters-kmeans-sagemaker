{
 "cells": [
  {
   "cell_type": "code",
   "execution_count": 7,
   "metadata": {},
   "outputs": [],
   "source": [
    "import pandas as pd\n",
    "import numpy as np\n",
    "import matplotlib.pyplot as plt\n",
    "from sklearn.cluster import KMeans\n"
   ]
  },
  {
   "cell_type": "code",
   "execution_count": 9,
   "metadata": {},
   "outputs": [],
   "source": [
    "data = pd.read_csv('./diabetes_data.csv')"
   ]
  },
  {
   "cell_type": "code",
   "execution_count": 10,
   "metadata": {},
   "outputs": [
    {
     "output_type": "execute_result",
     "data": {
      "text/plain": "   GAD   AGE   BMI   HOMA_IR   HOMA_Beta \n0  590    91    45      2.39         8.06\n1  725    28    45      1.20        10.97\n2  390    72    43      2.45        13.28\n3   70    46    21      4.17        26.01\n4  670     8    38      1.92        52.43",
      "text/html": "<div>\n<style scoped>\n    .dataframe tbody tr th:only-of-type {\n        vertical-align: middle;\n    }\n\n    .dataframe tbody tr th {\n        vertical-align: top;\n    }\n\n    .dataframe thead th {\n        text-align: right;\n    }\n</style>\n<table border=\"1\" class=\"dataframe\">\n  <thead>\n    <tr style=\"text-align: right;\">\n      <th></th>\n      <th>GAD</th>\n      <th>AGE</th>\n      <th>BMI</th>\n      <th>HOMA_IR</th>\n      <th>HOMA_Beta</th>\n    </tr>\n  </thead>\n  <tbody>\n    <tr>\n      <td>0</td>\n      <td>590</td>\n      <td>91</td>\n      <td>45</td>\n      <td>2.39</td>\n      <td>8.06</td>\n    </tr>\n    <tr>\n      <td>1</td>\n      <td>725</td>\n      <td>28</td>\n      <td>45</td>\n      <td>1.20</td>\n      <td>10.97</td>\n    </tr>\n    <tr>\n      <td>2</td>\n      <td>390</td>\n      <td>72</td>\n      <td>43</td>\n      <td>2.45</td>\n      <td>13.28</td>\n    </tr>\n    <tr>\n      <td>3</td>\n      <td>70</td>\n      <td>46</td>\n      <td>21</td>\n      <td>4.17</td>\n      <td>26.01</td>\n    </tr>\n    <tr>\n      <td>4</td>\n      <td>670</td>\n      <td>8</td>\n      <td>38</td>\n      <td>1.92</td>\n      <td>52.43</td>\n    </tr>\n  </tbody>\n</table>\n</div>"
     },
     "metadata": {},
     "execution_count": 10
    }
   ],
   "source": [
    "data.head()"
   ]
  },
  {
   "cell_type": "code",
   "execution_count": null,
   "metadata": {},
   "outputs": [],
   "source": []
  }
 ],
 "metadata": {
  "language_info": {
   "codemirror_mode": {
    "name": "ipython",
    "version": 3
   },
   "file_extension": ".py",
   "mimetype": "text/x-python",
   "name": "python",
   "nbconvert_exporter": "python",
   "pygments_lexer": "ipython3",
   "version": "3.7.4-final"
  },
  "orig_nbformat": 2,
  "kernelspec": {
   "name": "python3",
   "display_name": "Python 3"
  }
 },
 "nbformat": 4,
 "nbformat_minor": 2
}