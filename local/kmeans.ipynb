{
 "cells": [
  {
   "cell_type": "code",
   "execution_count": 1,
   "metadata": {},
   "outputs": [],
   "source": [
    "import pandas as pd\n",
    "import numpy as np\n",
    "import matplotlib.pyplot as plt\n",
    "from sklearn.cluster import KMeans\n"
   ]
  },
  {
   "cell_type": "code",
   "execution_count": 2,
   "metadata": {},
   "outputs": [],
   "source": [
    "data = pd.read_csv('./diabetes_data.csv')"
   ]
  },
  {
   "cell_type": "code",
   "execution_count": 3,
   "metadata": {},
   "outputs": [
    {
     "output_type": "execute_result",
     "data": {
      "text/plain": "   GAD   AGE   BMI   HbA1c   HOMA_IR   HOMA_Beta \n0  291    97    41    9.00      0.82        22.56\n1  573    87    36   13.69      2.74        17.75\n2  820    46    21    8.70      1.00       102.04\n3  329    86    45    7.14      1.13        28.07\n4  230    97    25    7.32      1.54        15.41",
      "text/html": "<div>\n<style scoped>\n    .dataframe tbody tr th:only-of-type {\n        vertical-align: middle;\n    }\n\n    .dataframe tbody tr th {\n        vertical-align: top;\n    }\n\n    .dataframe thead th {\n        text-align: right;\n    }\n</style>\n<table border=\"1\" class=\"dataframe\">\n  <thead>\n    <tr style=\"text-align: right;\">\n      <th></th>\n      <th>GAD</th>\n      <th>AGE</th>\n      <th>BMI</th>\n      <th>HbA1c</th>\n      <th>HOMA_IR</th>\n      <th>HOMA_Beta</th>\n    </tr>\n  </thead>\n  <tbody>\n    <tr>\n      <td>0</td>\n      <td>291</td>\n      <td>97</td>\n      <td>41</td>\n      <td>9.00</td>\n      <td>0.82</td>\n      <td>22.56</td>\n    </tr>\n    <tr>\n      <td>1</td>\n      <td>573</td>\n      <td>87</td>\n      <td>36</td>\n      <td>13.69</td>\n      <td>2.74</td>\n      <td>17.75</td>\n    </tr>\n    <tr>\n      <td>2</td>\n      <td>820</td>\n      <td>46</td>\n      <td>21</td>\n      <td>8.70</td>\n      <td>1.00</td>\n      <td>102.04</td>\n    </tr>\n    <tr>\n      <td>3</td>\n      <td>329</td>\n      <td>86</td>\n      <td>45</td>\n      <td>7.14</td>\n      <td>1.13</td>\n      <td>28.07</td>\n    </tr>\n    <tr>\n      <td>4</td>\n      <td>230</td>\n      <td>97</td>\n      <td>25</td>\n      <td>7.32</td>\n      <td>1.54</td>\n      <td>15.41</td>\n    </tr>\n  </tbody>\n</table>\n</div>"
     },
     "metadata": {},
     "execution_count": 3
    }
   ],
   "source": [
    "data.head()"
   ]
  },
  {
   "cell_type": "code",
   "execution_count": null,
   "metadata": {},
   "outputs": [],
   "source": []
  }
 ],
 "metadata": {
  "language_info": {
   "codemirror_mode": {
    "name": "ipython",
    "version": 3
   },
   "file_extension": ".py",
   "mimetype": "text/x-python",
   "name": "python",
   "nbconvert_exporter": "python",
   "pygments_lexer": "ipython3",
   "version": "3.7.4-final"
  },
  "orig_nbformat": 2,
  "kernelspec": {
   "name": "python3",
   "display_name": "Python 3"
  }
 },
 "nbformat": 4,
 "nbformat_minor": 2
}