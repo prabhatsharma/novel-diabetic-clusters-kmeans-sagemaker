{
 "cells": [
  {
   "cell_type": "markdown",
   "metadata": {},
   "source": [
    "# Required libraries"
   ]
  },
  {
   "cell_type": "code",
   "execution_count": 1,
   "metadata": {},
   "outputs": [],
   "source": [
    "from sagemaker import get_execution_role\n",
    "from sagemaker.session import Session\n",
    "from sagemaker import KMeans\n",
    "import io\n",
    "import pandas as pd\n",
    "import boto3\n",
    "import numpy as np"
   ]
  },
  {
   "cell_type": "markdown",
   "metadata": {},
   "source": [
    "# Get the data"
   ]
  },
  {
   "cell_type": "code",
   "execution_count": null,
   "metadata": {},
   "outputs": [],
   "source": [
    "s3 = boto3.client('s3')\n",
    "\n",
    "BUCKET_NAME = 'prabhat-ml-virginia' # replace with your bucket name\n",
    "KEY = 'diabetes/blog_synthetic/data/diabetes_data.csv' # replace with your object key\n",
    "\n",
    "role = get_execution_role()\n",
    "\n",
    "response = s3.get_object(Bucket=BUCKET_NAME, Key=KEY)\n",
    "response_body = response[\"Body\"].read()\n",
    "df = pd.read_csv(io.BytesIO(response_body), header=0, delimiter=\",\", low_memory=False)"
   ]
  },
  {
   "cell_type": "markdown",
   "metadata": {},
   "source": [
    "# Configure the estimator"
   ]
  },
  {
   "cell_type": "code",
   "execution_count": 126,
   "metadata": {},
   "outputs": [],
   "source": [
    "output_location = 's3://prabhat-ml/diabetes/blog_synthetic/output'    # place to store the generated model\n",
    "\n",
    "kmeans = KMeans(role=role,\n",
    "                train_instance_count=1,\n",
    "                train_instance_type='ml.c5.large',\n",
    "                output_path=output_location,\n",
    "                k=5\n",
    "               )"
   ]
  },
  {
   "cell_type": "markdown",
   "metadata": {},
   "source": [
    "# Normalize data\n",
    "\n",
    "We need to standardize the scaling of the numerical columns in order to use any distance based analytical methods so that we can compare the relative distances between different feature columns."
   ]
  },
  {
   "cell_type": "code",
   "execution_count": 127,
   "metadata": {},
   "outputs": [],
   "source": [
    "df1 = (df - df.mean())/df.std()"
   ]
  },
  {
   "cell_type": "markdown",
   "metadata": {},
   "source": [
    "# Train the model"
   ]
  },
  {
   "cell_type": "code",
   "execution_count": 97,
   "metadata": {
    "collapsed": true,
    "jupyter": {
     "outputs_hidden": true
    }
   },
   "outputs": [
    {
     "name": "stdout",
     "output_type": "stream",
     "text": [
      "2020-05-16 05:19:20 Starting - Starting the training job...\n",
      "2020-05-16 05:19:21 Starting - Launching requested ML instances.........\n",
      "2020-05-16 05:20:52 Starting - Preparing the instances for training...\n",
      "2020-05-16 05:21:40 Downloading - Downloading input data...\n",
      "2020-05-16 05:22:21 Training - Training image download completed. Training in progress..\u001b[34mDocker entrypoint called with argument(s): train\u001b[0m\n",
      "\u001b[34mRunning default environment configuration script\u001b[0m\n",
      "\u001b[34m[05/16/2020 05:22:22 INFO 140425388091200] Reading default configuration from /opt/amazon/lib/python2.7/site-packages/algorithm/resources/default-input.json: {u'_enable_profiler': u'false', u'_tuning_objective_metric': u'', u'_num_gpus': u'auto', u'local_lloyd_num_trials': u'auto', u'_log_level': u'info', u'_kvstore': u'auto', u'local_lloyd_init_method': u'kmeans++', u'force_dense': u'true', u'epochs': u'1', u'init_method': u'random', u'local_lloyd_tol': u'0.0001', u'local_lloyd_max_iter': u'300', u'_disable_wait_to_read': u'false', u'extra_center_factor': u'auto', u'eval_metrics': u'[\"msd\"]', u'_num_kv_servers': u'1', u'mini_batch_size': u'5000', u'half_life_time_size': u'0', u'_num_slices': u'1'}\u001b[0m\n",
      "\u001b[34m[05/16/2020 05:22:22 INFO 140425388091200] Reading provided configuration from /opt/ml/input/config/hyperparameters.json: {u'feature_dim': u'5', u'k': u'5', u'force_dense': u'True'}\u001b[0m\n",
      "\u001b[34m[05/16/2020 05:22:22 INFO 140425388091200] Final configuration: {u'_tuning_objective_metric': u'', u'extra_center_factor': u'auto', u'local_lloyd_init_method': u'kmeans++', u'force_dense': u'True', u'epochs': u'1', u'feature_dim': u'5', u'local_lloyd_tol': u'0.0001', u'_disable_wait_to_read': u'false', u'eval_metrics': u'[\"msd\"]', u'_num_kv_servers': u'1', u'mini_batch_size': u'5000', u'_enable_profiler': u'false', u'_num_gpus': u'auto', u'local_lloyd_num_trials': u'auto', u'_log_level': u'info', u'init_method': u'random', u'half_life_time_size': u'0', u'local_lloyd_max_iter': u'300', u'_kvstore': u'auto', u'k': u'5', u'_num_slices': u'1'}\u001b[0m\n",
      "\u001b[34m[05/16/2020 05:22:22 WARNING 140425388091200] Loggers have already been setup.\u001b[0m\n",
      "\u001b[34mProcess 1 is a worker.\u001b[0m\n",
      "\u001b[34m[05/16/2020 05:22:22 INFO 140425388091200] Using default worker.\u001b[0m\n",
      "\u001b[34m[05/16/2020 05:22:22 INFO 140425388091200] Loaded iterator creator application/x-recordio-protobuf for content type ('application/x-recordio-protobuf', '1.0')\u001b[0m\n",
      "\u001b[34m[05/16/2020 05:22:22 INFO 140425388091200] Create Store: local\u001b[0m\n",
      "\u001b[34m[05/16/2020 05:22:22 INFO 140425388091200] nvidia-smi took: 0.0251491069794 secs to identify 0 gpus\u001b[0m\n",
      "\u001b[34m[05/16/2020 05:22:22 INFO 140425388091200] Number of GPUs being used: 0\u001b[0m\n",
      "\u001b[34m[05/16/2020 05:22:23 INFO 140425388091200] Setting up with params: {u'_tuning_objective_metric': u'', u'extra_center_factor': u'auto', u'local_lloyd_init_method': u'kmeans++', u'force_dense': u'True', u'epochs': u'1', u'feature_dim': u'5', u'local_lloyd_tol': u'0.0001', u'_disable_wait_to_read': u'false', u'eval_metrics': u'[\"msd\"]', u'_num_kv_servers': u'1', u'mini_batch_size': u'5000', u'_enable_profiler': u'false', u'_num_gpus': u'auto', u'local_lloyd_num_trials': u'auto', u'_log_level': u'info', u'init_method': u'random', u'half_life_time_size': u'0', u'local_lloyd_max_iter': u'300', u'_kvstore': u'auto', u'k': u'5', u'_num_slices': u'1'}\u001b[0m\n",
      "\u001b[34m[05/16/2020 05:22:23 INFO 140425388091200] 'extra_center_factor' was set to 'auto', evaluated to 10.\u001b[0m\n",
      "\u001b[34m[05/16/2020 05:22:23 INFO 140425388091200] Number of GPUs being used: 0\u001b[0m\n",
      "\u001b[34m[05/16/2020 05:22:23 INFO 140425388091200] number of center slices 1\u001b[0m\n",
      "\u001b[34m#metrics {\"Metrics\": {\"Max Batches Seen Between Resets\": {\"count\": 1, \"max\": 1, \"sum\": 1.0, \"min\": 1}, \"Number of Batches Since Last Reset\": {\"count\": 1, \"max\": 1, \"sum\": 1.0, \"min\": 1}, \"Number of Records Since Last Reset\": {\"count\": 1, \"max\": 5000, \"sum\": 5000.0, \"min\": 5000}, \"Total Batches Seen\": {\"count\": 1, \"max\": 1, \"sum\": 1.0, \"min\": 1}, \"Total Records Seen\": {\"count\": 1, \"max\": 5000, \"sum\": 5000.0, \"min\": 5000}, \"Max Records Seen Between Resets\": {\"count\": 1, \"max\": 5000, \"sum\": 5000.0, \"min\": 5000}, \"Reset Count\": {\"count\": 1, \"max\": 0, \"sum\": 0.0, \"min\": 0}}, \"EndTime\": 1589606543.015478, \"Dimensions\": {\"Host\": \"algo-1\", \"Meta\": \"init_train_data_iter\", \"Operation\": \"training\", \"Algorithm\": \"AWS/KMeansWebscale\"}, \"StartTime\": 1589606543.01545}\n",
      "\u001b[0m\n",
      "\u001b[34m[2020-05-16 05:22:23.015] [tensorio] [info] epoch_stats={\"data_pipeline\": \"/opt/ml/input/data/train\", \"epoch\": 0, \"duration\": 21, \"num_examples\": 1, \"num_bytes\": 220000}\u001b[0m\n",
      "\u001b[34m[2020-05-16 05:22:23.078] [tensorio] [info] epoch_stats={\"data_pipeline\": \"/opt/ml/input/data/train\", \"epoch\": 1, \"duration\": 62, \"num_examples\": 2, \"num_bytes\": 440000}\u001b[0m\n",
      "\u001b[34m[05/16/2020 05:22:23 INFO 140425388091200] processed a total of 10000 examples\u001b[0m\n",
      "\u001b[34m[05/16/2020 05:22:23 INFO 140425388091200] #progress_metric: host=algo-1, completed 100 % of epochs\u001b[0m\n",
      "\u001b[34m#metrics {\"Metrics\": {\"Max Batches Seen Between Resets\": {\"count\": 1, \"max\": 2, \"sum\": 2.0, \"min\": 2}, \"Number of Batches Since Last Reset\": {\"count\": 1, \"max\": 2, \"sum\": 2.0, \"min\": 2}, \"Number of Records Since Last Reset\": {\"count\": 1, \"max\": 10000, \"sum\": 10000.0, \"min\": 10000}, \"Total Batches Seen\": {\"count\": 1, \"max\": 3, \"sum\": 3.0, \"min\": 3}, \"Total Records Seen\": {\"count\": 1, \"max\": 15000, \"sum\": 15000.0, \"min\": 15000}, \"Max Records Seen Between Resets\": {\"count\": 1, \"max\": 10000, \"sum\": 10000.0, \"min\": 10000}, \"Reset Count\": {\"count\": 1, \"max\": 1, \"sum\": 1.0, \"min\": 1}}, \"EndTime\": 1589606543.078569, \"Dimensions\": {\"Host\": \"algo-1\", \"Meta\": \"training_data_iter\", \"Operation\": \"training\", \"Algorithm\": \"AWS/KMeansWebscale\", \"epoch\": 0}, \"StartTime\": 1589606543.015722}\n",
      "\u001b[0m\n",
      "\u001b[34m[05/16/2020 05:22:23 INFO 140425388091200] #throughput_metric: host=algo-1, train throughput=158823.413585 records/second\u001b[0m\n",
      "\u001b[34m[05/16/2020 05:22:23 WARNING 140425388091200] wait_for_all_workers will not sync workers since the kv store is not running distributed\u001b[0m\n",
      "\u001b[34m[05/16/2020 05:22:23 INFO 140425388091200] shrinking 50 centers into 5\u001b[0m\n",
      "\u001b[34m[05/16/2020 05:22:23 INFO 140425388091200] local kmeans attempt #0. Current mean square distance 1.829575\u001b[0m\n",
      "\u001b[34m[05/16/2020 05:22:23 INFO 140425388091200] local kmeans attempt #1. Current mean square distance 1.921767\u001b[0m\n",
      "\u001b[34m[05/16/2020 05:22:23 INFO 140425388091200] local kmeans attempt #2. Current mean square distance 1.943938\u001b[0m\n",
      "\u001b[34m[05/16/2020 05:22:23 INFO 140425388091200] local kmeans attempt #3. Current mean square distance 1.916485\u001b[0m\n",
      "\u001b[34m[05/16/2020 05:22:23 INFO 140425388091200] local kmeans attempt #4. Current mean square distance 1.850939\u001b[0m\n",
      "\u001b[34m[05/16/2020 05:22:23 INFO 140425388091200] local kmeans attempt #5. Current mean square distance 1.836902\u001b[0m\n",
      "\u001b[34m[05/16/2020 05:22:23 INFO 140425388091200] local kmeans attempt #6. Current mean square distance 1.936728\u001b[0m\n",
      "\u001b[34m[05/16/2020 05:22:23 INFO 140425388091200] local kmeans attempt #7. Current mean square distance 1.968471\u001b[0m\n",
      "\u001b[34m[05/16/2020 05:22:23 INFO 140425388091200] local kmeans attempt #8. Current mean square distance 2.072643\u001b[0m\n",
      "\u001b[34m[05/16/2020 05:22:23 INFO 140425388091200] local kmeans attempt #9. Current mean square distance 1.919132\u001b[0m\n",
      "\u001b[34m[05/16/2020 05:22:23 INFO 140425388091200] finished shrinking process. Mean Square Distance = 2\u001b[0m\n",
      "\u001b[34m[05/16/2020 05:22:23 INFO 140425388091200] #quality_metric: host=algo-1, train msd <loss>=1.82957458496\u001b[0m\n",
      "\u001b[34m[05/16/2020 05:22:23 INFO 140425388091200] compute all data-center distances: inner product took: 48.6290%, (0.033086 secs)\u001b[0m\n",
      "\u001b[34m[05/16/2020 05:22:23 INFO 140425388091200] batch data loading with context took: 10.9349%, (0.007440 secs)\u001b[0m\n",
      "\u001b[34m[05/16/2020 05:22:23 INFO 140425388091200] collect from kv store took: 9.0202%, (0.006137 secs)\u001b[0m\n",
      "\u001b[34m[05/16/2020 05:22:23 INFO 140425388091200] splitting centers key-value pair took: 8.8145%, (0.005997 secs)\u001b[0m\n",
      "\u001b[34m[05/16/2020 05:22:23 INFO 140425388091200] predict compute msd took: 6.8437%, (0.004656 secs)\u001b[0m\n",
      "\u001b[34m[05/16/2020 05:22:23 INFO 140425388091200] gradient: cluster center took: 5.1834%, (0.003527 secs)\u001b[0m\n",
      "\u001b[34m[05/16/2020 05:22:23 INFO 140425388091200] gradient: cluster size  took: 3.2099%, (0.002184 secs)\u001b[0m\n",
      "\u001b[34m[05/16/2020 05:22:23 INFO 140425388091200] compute all data-center distances: point norm took: 3.1979%, (0.002176 secs)\u001b[0m\n",
      "\u001b[34m[05/16/2020 05:22:23 INFO 140425388091200] gradient: one_hot took: 2.5560%, (0.001739 secs)\u001b[0m\n",
      "\u001b[34m[05/16/2020 05:22:23 INFO 140425388091200] update state and report convergance took: 1.0257%, (0.000698 secs)\u001b[0m\n",
      "\u001b[34m[05/16/2020 05:22:23 INFO 140425388091200] compute all data-center distances: center norm took: 0.3024%, (0.000206 secs)\u001b[0m\n",
      "\u001b[34m[05/16/2020 05:22:23 INFO 140425388091200] update set-up time took: 0.2365%, (0.000161 secs)\u001b[0m\n",
      "\u001b[34m[05/16/2020 05:22:23 INFO 140425388091200] predict minus dist took: 0.0459%, (0.000031 secs)\u001b[0m\n",
      "\u001b[34m[05/16/2020 05:22:23 INFO 140425388091200] TOTAL took: 0.0680377483368\u001b[0m\n",
      "\u001b[34m[05/16/2020 05:22:23 INFO 140425388091200] Number of GPUs being used: 0\u001b[0m\n",
      "\u001b[34m#metrics {\"Metrics\": {\"finalize.time\": {\"count\": 1, \"max\": 134.63401794433594, \"sum\": 134.63401794433594, \"min\": 134.63401794433594}, \"initialize.time\": {\"count\": 1, \"max\": 14.486074447631836, \"sum\": 14.486074447631836, \"min\": 14.486074447631836}, \"model.serialize.time\": {\"count\": 1, \"max\": 0.11897087097167969, \"sum\": 0.11897087097167969, \"min\": 0.11897087097167969}, \"update.time\": {\"count\": 1, \"max\": 62.68000602722168, \"sum\": 62.68000602722168, \"min\": 62.68000602722168}, \"epochs\": {\"count\": 1, \"max\": 1, \"sum\": 1.0, \"min\": 1}, \"state.serialize.time\": {\"count\": 1, \"max\": 0.6761550903320312, \"sum\": 0.6761550903320312, \"min\": 0.6761550903320312}, \"_shrink.time\": {\"count\": 1, \"max\": 133.37206840515137, \"sum\": 133.37206840515137, \"min\": 133.37206840515137}}, \"EndTime\": 1589606543.21443, \"Dimensions\": {\"Host\": \"algo-1\", \"Operation\": \"training\", \"Algorithm\": \"AWS/KMeansWebscale\"}, \"StartTime\": 1589606542.993655}\n",
      "\u001b[0m\n",
      "\u001b[34m[05/16/2020 05:22:23 INFO 140425388091200] Test data is not provided.\u001b[0m\n",
      "\u001b[34m#metrics {\"Metrics\": {\"totaltime\": {\"count\": 1, \"max\": 278.0609130859375, \"sum\": 278.0609130859375, \"min\": 278.0609130859375}, \"setuptime\": {\"count\": 1, \"max\": 11.036872863769531, \"sum\": 11.036872863769531, \"min\": 11.036872863769531}}, \"EndTime\": 1589606543.214738, \"Dimensions\": {\"Host\": \"algo-1\", \"Operation\": \"training\", \"Algorithm\": \"AWS/KMeansWebscale\"}, \"StartTime\": 1589606543.214513}\n",
      "\u001b[0m\n",
      "\n",
      "2020-05-16 05:22:33 Uploading - Uploading generated training model\n",
      "2020-05-16 05:22:33 Completed - Training job completed\n",
      "Training seconds: 53\n",
      "Billable seconds: 53\n"
     ]
    }
   ],
   "source": [
    "train_data = df1.to_numpy()\n",
    "train_data = np.float32(train_data) # alogorithm expects float32\n",
    "kmeans.fit(kmeans.record_set(train_data))"
   ]
  },
  {
   "cell_type": "markdown",
   "metadata": {},
   "source": [
    "# Deploy the model - create an inference endpoint"
   ]
  },
  {
   "cell_type": "code",
   "execution_count": 22,
   "metadata": {},
   "outputs": [
    {
     "name": "stderr",
     "output_type": "stream",
     "text": [
      "Using already existing model: kmeans-2020-05-16-03-23-14-106\n"
     ]
    },
    {
     "name": "stdout",
     "output_type": "stream",
     "text": [
      "-------------------!CPU times: user 300 ms, sys: 12.2 ms, total: 312 ms\n",
      "Wall time: 9min 32s\n"
     ]
    }
   ],
   "source": [
    "%%time\n",
    "kmeans_predictor = kmeans.deploy(initial_instance_count=1, \n",
    "                                 instance_type='ml.t2.medium')"
   ]
  },
  {
   "cell_type": "markdown",
   "metadata": {},
   "source": [
    "# Do sample inference"
   ]
  },
  {
   "cell_type": "code",
   "execution_count": 103,
   "metadata": {},
   "outputs": [
    {
     "name": "stdout",
     "output_type": "stream",
     "text": [
      "[498.907, 50.0303, 29.4696, 2.289492000000002, 74.49937000000021]\n",
      "[289.87433115711855, 28.657887384818498, 11.498821597442676, 1.306044393246921, 526.7579254124425]\n"
     ]
    }
   ],
   "source": [
    "data_mean = df.mean().to_numpy().tolist()\n",
    "data_std = df.std().to_numpy().tolist()\n",
    "print(data_mean)\n",
    "print(data_std)"
   ]
  },
  {
   "cell_type": "code",
   "execution_count": 95,
   "metadata": {},
   "outputs": [
    {
     "data": {
      "text/plain": [
       "array([ 0.89381146,  0.4874644 ,  0.5679191 ,  0.41385117, -0.04597818],\n",
       "      dtype=float32)"
      ]
     },
     "execution_count": 95,
     "metadata": {},
     "output_type": "execute_result"
    }
   ],
   "source": [
    "test_sample = [758,64,36,2.83,50.28]\n",
    "test_a1 = np.array(test_sample).reshape(1,5)\n",
    "test_a1 = (test_sample - df.mean().to_numpy())/df.std().to_numpy()\n",
    "test_a1 = np.float32(test_a1)\n",
    "test_a1"
   ]
  },
  {
   "cell_type": "code",
   "execution_count": 104,
   "metadata": {},
   "outputs": [],
   "source": [
    "result = kmeans_predictor.predict(test_a1)"
   ]
  },
  {
   "cell_type": "code",
   "execution_count": 129,
   "metadata": {},
   "outputs": [],
   "source": [
    "cluster_to_which_data_belongs = result[0].label['closest_cluster'].float32_tensor.values[0]"
   ]
  },
  {
   "cell_type": "code",
   "execution_count": 130,
   "metadata": {},
   "outputs": [
    {
     "data": {
      "text/plain": [
       "1.0"
      ]
     },
     "execution_count": 130,
     "metadata": {},
     "output_type": "execute_result"
    }
   ],
   "source": [
    "cluster_to_which_data_belongs"
   ]
  },
  {
   "cell_type": "code",
   "execution_count": null,
   "metadata": {},
   "outputs": [],
   "source": []
  }
 ],
 "metadata": {
  "instance_type": "ml.t3.medium",
  "kernelspec": {
   "display_name": "Python 3 (PyTorch CPU Optimized)",
   "language": "python",
   "name": "python3__SAGEMAKER_INTERNAL__arn:aws:sagemaker:us-east-2:429704687514:image/pytorch-1.4-cpu-py36"
  },
  "language_info": {
   "codemirror_mode": {
    "name": "ipython",
    "version": 3
   },
   "file_extension": ".py",
   "mimetype": "text/x-python",
   "name": "python",
   "nbconvert_exporter": "python",
   "pygments_lexer": "ipython3",
   "version": "3.6.6"
  }
 },
 "nbformat": 4,
 "nbformat_minor": 4
}
